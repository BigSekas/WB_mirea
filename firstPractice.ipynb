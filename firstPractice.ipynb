{ 
 "cells": [
  {
   "cell_type": "code",
   "execution_count": 2,
   "id": "619a2541",
   "metadata": {},
   "outputs": [
    {
     "name": "stdout",
     "output_type": "stream",
     "text": [
      "True  <class 'bool'> n {8, 1, 3, 7}  <class 'set'> n {2, 4, 5, 'apple', 10}  <class 'set'> n set()  <class 'set'> n ('Антонова Антонина', 34, 'ж')  <class 'tuple'> n type  <class 'str'> n [1, 'tittle', 2, 'content']  <class 'list'>\n"
     ]
    }
   ],
   "source": [
    "x = 5 >= 2\n",
    "A = {1, 3, 7, 8}\n",
    "B = {2, 4, 5, 10, 'apple'}\n",
    "C = A & B\n",
    "df = 'Антонова Антонина', 34, 'ж'\n",
    "z = 'type'\n",
    "D = [1, 'tittle', 2, 'content']\n",
    "print(x, '', type(x), 'n', A, '', type(A), 'n', B, '', type(B), 'n', C, '', type(C), 'n', df, '', type(df), 'n',\n",
    "     z, '', type(z), 'n', D, '', type(D))\n"
   ]
  },
  {
   "cell_type": "code",
   "execution_count": 8,
   "id": "a47de230",
   "metadata": {},
   "outputs": [
    {
     "name": "stdout",
     "output_type": "stream",
     "text": [
      "7\n",
      "(5, +inf)\n"
     ]
    }
   ],
   "source": [
    "x = int(input())\n",
    "if x >= -5 and x <= 5:\n",
    "    print('[-5, 5]')\n",
    "elif x < -5:\n",
    "    print('(-inf, -5)')\n",
    "else:\n",
    "    print('(5, +inf)')\n"
   ]
  },
  {
   "cell_type": "code",
   "execution_count": 9,
   "id": "cb85152b",
   "metadata": {},
   "outputs": [
    {
     "name": "stdout",
     "output_type": "stream",
     "text": [
      "10\n",
      "7\n",
      "4\n",
      "1\n"
     ]
    }
   ],
   "source": [
    "x = 10\n",
    "while x >= 1:\n",
    "    print(x)\n",
    "    x = x - 3"
   ]
  },
  {
   "cell_type": "code",
   "execution_count": 10,
   "id": "377c1639",
   "metadata": {},
   "outputs": [
    {
     "name": "stdout",
     "output_type": "stream",
     "text": [
      "Возраст, Цвет глаз, Рост\n"
     ]
    }
   ],
   "source": [
    "ident = ['Возраст', 'Цвет глаз', 'Рост']\n",
    "print(*ident, sep = ', ')"
   ]
  },
  {
   "cell_type": "code",
   "execution_count": 11,
   "id": "a40f6c82",
   "metadata": {},
   "outputs": [
    {
     "name": "stdout",
     "output_type": "stream",
     "text": [
      "2, 3, 4, 5, 6, 7, 8, 9, 10, 11, 12, 13, 14, 15\n"
     ]
    }
   ],
   "source": [
    "mass = [i for i in range(2, 16)]\n",
    "print(*mass, sep = ', ')"
   ]
  },
  {
   "cell_type": "code",
   "execution_count": 12,
   "id": "c56ef0aa",
   "metadata": {},
   "outputs": [
    {
     "name": "stdout",
     "output_type": "stream",
     "text": [
      "105\n",
      "80\n",
      "55\n",
      "30\n",
      "5\n"
     ]
    }
   ],
   "source": [
    "for i in range(105, 0, -25):\n",
    "    print(i)"
   ]
  },
  {
   "cell_type": "code",
   "execution_count": 13,
   "id": "dcdfb462",
   "metadata": {},
   "outputs": [
    {
     "name": "stdout",
     "output_type": "stream",
     "text": [
      "1 2 3 4 5 6 7 8 9 10\n",
      "start:  1 2 3 4 5 6 7 8 9 10\n",
      "end:  9 2 7 4 5 6 3 8 1 10\n"
     ]
    }
   ],
   "source": [
    "mass = [elem for elem in input().split()]\n",
    "print('start: ', *mass)\n",
    "for i in range(0, len(mass)//2):\n",
    "    if (i - 1) % 2 == 0:\n",
    "        mass[i - 1], mass[len(mass) - i - 1] = mass[len(mass) - i - 1], mass[i - 1]\n",
    "print('end: ', *mass)"
   ]
  },
  {
   "cell_type": "code",
   "execution_count": 14,
   "id": "9696dffc",
   "metadata": {},
   "outputs": [
    {
     "name": "stdout",
     "output_type": "stream",
     "text": [
      "0.5114444076817282 0.445056002579975\n"
     ]
    },
    {
     "data": {
      "image/png": "[encoded data removed]",
      "text/plain": [
       "<Figure size 432x288 with 1 Axes>"
      ]
     },
     "metadata": {
      "needs_background": "light"
     },
     "output_type": "display_data"
    }
   ],
   "source": [
    "import random\n",
    "import matplotlib.pyplot as plt\n",
    "\n",
    "items = [random.uniform(0, 1) for i in range(10)]\n",
    "copy_items = items\n",
    "avg = sum(items)/len(items)\n",
    "items = sorted(items)\n",
    "print(avg, items[4])\n",
    "\n",
    "numbers = [i for i in range(10)]\n",
    "plt.xlabel('numbers')\n",
    "plt.ylabel('items')\n",
    "plt.scatter(x =[numbers], y = [copy_items])\n",
    "plt.show()"
   ]
  },
  {
   "cell_type": "code",
   "execution_count": 15,
   "id": "d89b639a",
   "metadata": {},
   "outputs": [
    {
     "data": {
      "image/png": "[encoded data removed]",
      "text/plain": [
       "<Figure size 432x288 with 1 Axes>"
      ]
     },
     "metadata": {
      "needs_background": "light"
     },
     "output_type": "display_data"
    },
    {
     "data": {
      "image/png": "[encoded data removed]",
      "text/plain": [
       "<Figure size 432x288 with 1 Axes>"
      ]
     },
     "metadata": {
      "needs_background": "light"
     },
     "output_type": "display_data"
    }
   ],
   "source": [
    "import matplotlib.pyplot as plt\n",
    "import numpy as np\n",
    "\n",
    "x = np.arange(1.0, 10.0, 1)\n",
    "y = np.sqrt(1 + np.exp(np.sqrt(x)) + np.cos(x*x))/(abs(1 - np.sin(x)**3)) + np.log(abs(2*x))\n",
    "\n",
    "plt.plot(x, y, c = 'r')\n",
    "plt.show()\n",
    "\n",
    "plt.plot(x[:5], y[:5], c = 'r', marker = 'o')\n",
    "plt.grid(True)\n",
    "plt.show()\n"
   ]
  },
  {
   "cell_type": "code",
   "execution_count": 17,
   "id": "20b3f4c2",
   "metadata": {},
   "outputs": [
    {
     "data": {
      "image/png": "[encoded data removed]",
      "text/plain": [
       "<Figure size 432x288 with 1 Axes>"
      ]
     },
     "metadata": {
      "needs_background": "light"
     },
     "output_type": "display_data"
    },
    {
     "name": "stdout",
     "output_type": "stream",
     "text": [
      "Площадь = 6.260345875494747\n"
     ]
    }
   ],
   "source": [
    "from scipy.integrate import simps\n",
    "from numpy import trapz\n",
    "import matplotlib.pyplot as plt\n",
    "import numpy as np\n",
    "\n",
    "x = np.arange(0.0, 10.0, 1)\n",
    "y = np.abs(np.cos(x * np.exp(np.cos(x) + np.log(x + 1))))\n",
    "\n",
    "plt.plot(x, y, c = 'r')\n",
    "plt.fill_between(x, y)\n",
    "plt.grid(True)\n",
    "plt.show()\n",
    "\n",
    "area = trapz(y)\n",
    "print(f'Площадь = {area}')\n"
   ]
  },
  {
   "cell_type": "code",
   "execution_count": 19,
   "id": "749f29bc",
   "metadata": {},
   "outputs": [
    {
     "name": "stdout",
     "output_type": "stream",
     "text": [
      "Доступные операции:  \n",
      " +: Cумма \n",
      " -: Разность \n",
      " *: Умножение \n",
      " /: Деление \n",
      " 1: Вычислить e^(x + y) \n",
      " 2: Вычислить sin(x + y) \n",
      " 3: Вычислить cos(x + y) \n",
      " 4: Вычислить x^y \n",
      " Для выхода введите exit\n",
      "Выберите операцию: 3\n",
      "x = 45\n",
      "y = 45\n",
      "-0.4480736161291701\n"
     ]
    }
   ],
   "source": [
    "import math as mt\n",
    "\n",
    "def check(value):\n",
    "    if value == \"1\" or value == \"2\" or value == \"3\" or value == \"4\" or value == \"+\" or value == \"-\" or value == \"*\" or value == \"/\":\n",
    "        return True\n",
    "    else:\n",
    "        return False\n",
    "\n",
    "def operation(value, first_digit, second_digit):\n",
    "    if value == '+':\n",
    "        return first_digit + second_digit\n",
    "    elif value == '-':\n",
    "        return first_digit - second_digit\n",
    "    elif value == '*':\n",
    "        return first_digit * second_digit\n",
    "    elif value == '/':\n",
    "        return first_digit / second_digit\n",
    "    elif value == \"1\":\n",
    "        return mt.exp(first_digit + second_digit)\n",
    "    elif value == \"2\":\n",
    "        return mt.sin(first_digit + second_digit)\n",
    "    elif value == \"3\":\n",
    "        return mt.cos(first_digit + second_digit)\n",
    "    elif value == \"4\":\n",
    "        return first_digit ** second_digit\n",
    "\n",
    "\n",
    "print('Доступные операции: ', '\\n', '+: Cумма', '\\n', '-: Разность', '\\n', '*: Умножение', '\\n', '/: Деление',\n",
    "          '\\n', '1: Вычислить e^(x + y)', '\\n', '2: Вычислить sin(x + y)', '\\n', '3: Вычислить cos(x + y)', '\\n',\n",
    "          '4: Вычислить x^y', '\\n', 'Для выхода введите exit')\n",
    "\n",
    "current_operation = input('Выберите операцию: ')\n",
    "\n",
    "if check(current_operation):\n",
    "    x = int(input('x = '))\n",
    "    y = int(input('y = '))\n",
    "    print(operation(current_operation, x, y))\n",
    "else:\n",
    "    print('Выбранная операция не определена!')"
   ]
  },
  {
   "cell_type": "code",
   "execution_count": null,
   "id": "12d099ee",
   "metadata": {},
   "outputs": [],
   "source": []
  }
 ],
 "metadata": {
  "kernelspec": {
   "display_name": "Python 3 (ipykernel)",
   "language": "python",
   "name": "python3"
  },
  "language_info": {
   "codemirror_mode": {
    "name": "ipython",
    "version": 3
   },
   "file_extension": ".py",
   "mimetype": "text/x-python",
   "name": "python",
   "nbconvert_exporter": "python",
   "pygments_lexer": "ipython3",
   "version": "3.9.12"
  }
 },
 "nbformat": 4,
 "nbformat_minor": 5
}
