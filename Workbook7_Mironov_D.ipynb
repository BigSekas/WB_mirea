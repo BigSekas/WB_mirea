{
  "cells": [
    {
      "cell_type": "markdown",
      "metadata": {
        "id": "view-in-github",
        "colab_type": "text"
      },
      "source": [
        "<a href=\"https://colab.research.google.com/github/BigSekas/WB_mirea/blob/main/Workbook7_Mironov_D.ipynb\" target=\"_parent\"><img src=\"https://colab.research.google.com/assets/colab-badge.svg\" alt=\"Open In Colab\"/></a>"
      ]
    },
    {
      "cell_type": "markdown",
      "source": [
        "## Рабочая тетрадь No7"
      ],
      "metadata": {
        "cell_id": "b282a6a3c8674da6854d06e6a85404cc",
        "formattedRanges": [],
        "deepnote_cell_type": "text-cell-h2",
        "id": "hJOGxQrjimFI"
      }
    },
    {
      "cell_type": "markdown",
      "source": [
        "### 1.1.1 Пример\n",
        "Рассмотрим программу обучения персептрона на языке Python. Сначала рассмотрим основной класс персептрона, который умеет учиться по тестовым данным."
      ],
      "metadata": {
        "cell_id": "afe71d6c9bde456a9516e62bb46f69f5",
        "deepnote_cell_type": "markdown",
        "id": "L9TCwOQ_imFK"
      }
    },
    {
      "cell_type": "code",
      "source": [
        "# класс, который реализует перспептрон и его обучение\n",
        "class Perceptron:\n",
        "    def __init__(self,N):\n",
        "        # создать нулевые веса\n",
        "        self.w = list()\n",
        "        for i in range(N):\n",
        "            self.w.append( 0)\n",
        "    #метод для вычисления значения перспептрона\n",
        "    def calc(self,x):\n",
        "        res = 0\n",
        "        for i in range(len(self.w)):\n",
        "            res = res + self.w[i] * x[i]\n",
        "        return res\n",
        "    # пороговая функция активации перспептрона\n",
        "    def sign(self,x):\n",
        "        if self.calc(x) > 0:\n",
        "            return 1\n",
        "        else:\n",
        "            return -1\n",
        "    # обучение на одном примере\n",
        "    def learn(self, la, x, y):\n",
        "        #обучаем только, когда результат неверный\n",
        "        if y * self.calc(x) <= 0:\n",
        "            for i in range(len(self.w)):\n",
        "                self.w[i] = self.w[i] + la * y * x[i]\n",
        "    #обучение по всем данным Т - кортеж примеров\n",
        "    def learning(self, la, T):\n",
        "        #цикл обучения\n",
        "        for n in range(100):\n",
        "            #обучение по всем набору примеров\n",
        "            for t in T:\n",
        "                self.learn(la,t[0], t[1])"
      ],
      "metadata": {
        "cell_id": "7f31dcdd4eb04a31b8b811cb2dab67f4",
        "source_hash": "79a5c1a8",
        "execution_start": 1686039495396,
        "execution_millis": 9,
        "deepnote_to_be_reexecuted": false,
        "deepnote_cell_type": "code",
        "id": "1radTKTsimFK"
      },
      "outputs": [],
      "execution_count": null
    },
    {
      "cell_type": "markdown",
      "source": [
        "В строке 25 мы осуществляем корректировку весов. Посмотрим, как учится\n",
        "и работает наш персептрон."
      ],
      "metadata": {
        "cell_id": "a02fc7121e8444bea34f593672485b70",
        "formattedRanges": [],
        "deepnote_cell_type": "text-cell-p",
        "id": "ojdNke0rimFM"
      }
    },
    {
      "cell_type": "code",
      "source": [
        "# создаем класс двумерного перспетрона\n",
        "perceptron = Perceptron(2)\n",
        "la = 0.1 # константа обучения\n",
        "# создаём примеры\n",
        "T = list()\n",
        "T.append([[2,1],1])\n",
        "T.append([[3,2],1])\n",
        "T.append([[4,1],1])\n",
        "T.append([[1,2],-1])\n",
        "T.append([[2,3],-1])\n",
        "T.append([[5,7],-1])\n",
        "perceptron.learning(la,T) # обучение перспетрона\n",
        "print(perceptron.w) # печатаем веса\n",
        "# проверим работу на тестовых примерах\n",
        "print(perceptron.sign([1.5, 2]))\n",
        "print(perceptron.sign([3, 1.5]))\n",
        "print(perceptron.sign([5, 1]))\n",
        "print(perceptron.sign([5, 10]))"
      ],
      "metadata": {
        "cell_id": "4e747925788147c89b140436f2cafbfb",
        "source_hash": "809a027b",
        "execution_start": 1686039495460,
        "execution_millis": 22,
        "deepnote_to_be_reexecuted": false,
        "deepnote_cell_type": "code",
        "colab": {
          "base_uri": "https://localhost:8080/"
        },
        "id": "0UqNA6EzimFM",
        "outputId": "fbe873ea-cc6a-40b2-b294-91b9c36b4a12"
      },
      "outputs": [
        {
          "output_type": "stream",
          "name": "stdout",
          "text": [
            "[0.1, -0.1]\n",
            "-1\n",
            "1\n",
            "1\n",
            "-1\n"
          ]
        }
      ],
      "execution_count": null
    },
    {
      "cell_type": "markdown",
      "source": [
        "Видим, что что наш персептрон отлично научился распознавать образы, относя к классу 1 те вектора, у которых первая компонента больше второй, и к классу -1 в противном случае. Хотя устройство персептронов довольно простое эти конструкции могут решать и практические задачи. Кроме того, из таких персептронов состоят нейронные сети."
      ],
      "metadata": {
        "cell_id": "c6fb342894a84f56a1c14fc4e19052b5",
        "deepnote_cell_type": "markdown",
        "id": "HpDra13gimFM"
      }
    },
    {
      "cell_type": "markdown",
      "source": [
        "### 1.1.2 Пример\n",
        "Для написания кода нейрона будем использовать библиотеку Pytnon — NumPy:"
      ],
      "metadata": {
        "cell_id": "e2d8737a17644c7ea69036455268dae8",
        "deepnote_cell_type": "markdown",
        "id": "ABnpn2KzimFN"
      }
    },
    {
      "cell_type": "code",
      "source": [
        "import numpy as np\n",
        "def sigmoid(x):\n",
        "    # Функция активации: f(x) = 1 / (1 + e*(-x))\n",
        "    return 1 / (1 + np.exp(-x))\n",
        "class Neuron:\n",
        "    def __init__(self, weights, bias):\n",
        "        self.weights = weights\n",
        "        self.bias = bias\n",
        "    def feedforward(self, inputs):\n",
        "        total = np.dot(self.weights, inputs) + self.bias\n",
        "        return sigmoid(total)\n",
        "\n",
        "weights = np.array([0, 1])  # w1 = 0, w2 = 1\n",
        "bias = 4                    # с = 4\n",
        "n = Neuron(weights, bias)\n",
        "x = np.array([2, 3])        # x = 2, y = 3\n",
        "print(n.feedforward(x))     # 0.9990889488055994"
      ],
      "metadata": {
        "cell_id": "b8e78a0654aa4e349f6762ce048d6378",
        "source_hash": "53b664a",
        "execution_start": 1686039495549,
        "execution_millis": 33,
        "deepnote_to_be_reexecuted": false,
        "deepnote_cell_type": "code",
        "colab": {
          "base_uri": "https://localhost:8080/"
        },
        "id": "J6km6Z7KimFN",
        "outputId": "e1eb2894-25f1-49f7-df09-dd032246d837"
      },
      "outputs": [
        {
          "output_type": "stream",
          "name": "stdout",
          "text": [
            "0.9990889488055994\n"
          ]
        }
      ],
      "execution_count": null
    },
    {
      "cell_type": "markdown",
      "source": [
        "Нейросеть состоит из множества соединенных между собой нейронов.\n",
        "Пример несложной нейронной сети\n",
        "\n",
        "![img](https://i.ibb.co/0Cpmr9y/image.png)\n",
        "\n",
        "где:\n",
        "- x1, x2 — входной слой;\n",
        "- h1, h2 — скрытый слой с двумя нейронами;\n",
        "- o1 — выходной слой.\n",
        "Например. Представим, что нейроны из графика выше имеют веса [0, 1]. Пороговое значение (b) у обоих нейронов равно 0 и они имеют идентичную сигмоиду.\n",
        "\n",
        "При входных данных x = [2, 3] получим:\n",
        "\n",
        "![img](https://i.ibb.co/m4wBZ4d/image.png)\n",
        "\n",
        "Входные данные по нейронам передаются до тех пор, пока не получатся выходные значения."
      ],
      "metadata": {
        "cell_id": "77e5a28a9f8c4875b1a384f022f5d701",
        "deepnote_cell_type": "markdown",
        "id": "bofkfIpRimFP"
      }
    },
    {
      "cell_type": "code",
      "source": [
        "import numpy as np\n",
        "class OurNeuralNetwork:\n",
        "\n",
        "\n",
        "    def __init__(self):\n",
        "        weights = np.array([0, 1])\n",
        "        bias = 0\n",
        "        # Knacc Neuron u3 предыдущего раздела\n",
        "        self.h1 = Neuron(weights, bias)\n",
        "        self.h2 = Neuron(weights, bias)\n",
        "        self.o1 = Neuron(weights, bias)\n",
        "    def feedforward(self, x):\n",
        "        out_h1 = self.h1.feedforward(x)\n",
        "        out_h2 = self.h2.feedforward(x)\n",
        "        # Входы для o1 — это входы h1 и h2\n",
        "        out_o1 = self.o1.feedforward(np.array([out_h1, out_h2]))\n",
        "        return out_o1\n",
        "\n",
        "network = OurNeuralNetwork()\n",
        "x = np.array([2, 3])\n",
        "print(network.feedforward(x)) # 0.7216325609518421"
      ],
      "metadata": {
        "cell_id": "1c356e58f5df4447930c559304bc01df",
        "source_hash": "4d38967e",
        "execution_start": 1686039495648,
        "execution_millis": 75,
        "deepnote_to_be_reexecuted": false,
        "deepnote_cell_type": "code",
        "colab": {
          "base_uri": "https://localhost:8080/"
        },
        "id": "bEx8pFWrimFQ",
        "outputId": "c4703d9f-8b72-4d7d-90f2-a40ca7773061"
      },
      "outputs": [
        {
          "output_type": "stream",
          "name": "stdout",
          "text": [
            "0.7216325609518421\n"
          ]
        }
      ],
      "execution_count": null
    },
    {
      "cell_type": "markdown",
      "source": [
        "### Задание (1.1.2)\n",
        "Реализовать классы нейросетей по аналогии с классом OurNeuralNetwork.\n",
        "Данные нейросети:\n",
        "- три входа (x1, x2, x3);\n",
        "- три нейрона в скрытых слоях (h1, h2, h3);\n",
        "- выход (o1)\n",
        "\n",
        "Нейроны имеют идентичные веса и пороги:\n",
        "- w = [0.5, 0.5, 0.5]\n",
        "- b = 0\n",
        "\n",
        "Данные нейросети:\n",
        "- два входа (x1, x2);\n",
        "- два нейрона в скрытых слоях (h1, h2);\n",
        "- два выхода (o1, o2)\n",
        "\n",
        "Нейроны имеют идентичные веса и пороги:\n",
        "- w = [1, 0];\n",
        "- b = 1"
      ],
      "metadata": {
        "cell_id": "2ffbb936b3cb4340bb0a7f12b21599a3",
        "deepnote_cell_type": "markdown",
        "id": "gNL7etHVimFR"
      }
    },
    {
      "cell_type": "code",
      "source": [
        "def sigmoid(x):\n",
        "    # Функция активации: f(x) = 1 / (1 + e*(-x))\n",
        "    return 1 / (1 + np.exp(-x))\n",
        "class Neuron:\n",
        "    def __init__(self, weights, bias):\n",
        "        self.weights = weights\n",
        "        self.bias = bias\n",
        "    def feedforward(self, inputs):\n",
        "        total = np.dot(self.weights, inputs) + self.bias\n",
        "        return sigmoid(total)\n",
        "\n",
        "weights = np.array([0, 1])  # w1 = 0, w2 = 1\n",
        "bias = 4                    # с = 4\n",
        "n = Neuron(weights, bias)\n",
        "x = np.array([2, 3])        # x = 2, y = 3\n",
        "print(n.feedforward(x))     # 0.9990889488055994"
      ],
      "metadata": {
        "cell_id": "7894a000e84d445eb759581982054b23",
        "source_hash": "80d5f41f",
        "execution_start": 1686039495769,
        "execution_millis": 82,
        "deepnote_to_be_reexecuted": false,
        "deepnote_cell_type": "code",
        "colab": {
          "base_uri": "https://localhost:8080/"
        },
        "id": "54kZsWBuimFR",
        "outputId": "4a2f0727-100f-4e2d-d65e-2ab8e61ce852"
      },
      "outputs": [
        {
          "output_type": "stream",
          "name": "stdout",
          "text": [
            "0.9990889488055994\n"
          ]
        }
      ],
      "execution_count": null
    },
    {
      "cell_type": "code",
      "source": [
        "class OurNeuralNetwork:\n",
        "    def __init__(self):\n",
        "        weights = np.array([0.5, 0.5, 0.5]) # w = [1,0]\n",
        "        bias = 0 # b = 1\n",
        "        # Knacc Neuron u3 предыдущего раздела\n",
        "        self.h1 = Neuron(weights, bias) # 1 нейрон\n",
        "        self.h2 = Neuron(weights, bias) # 2 нейрон\n",
        "        self.h3 = Neuron(weights, bias) # 2 нейрон\n",
        "        self.o1 = Neuron(weights, bias) # 1 выход\n",
        "    def feedforward(self, x):\n",
        "        out_h1 = self.h1.feedforward(x)\n",
        "        out_h2 = self.h2.feedforward(x)\n",
        "        out_h3 = self.h2.feedforward(x)\n",
        "        # Входы для o1 — это входы h1 и h2\n",
        "        out_o1 = self.o1.feedforward(np.array([out_h1, out_h2, out_h3]))\n",
        "        return out_o1\n",
        "\n",
        "network = OurNeuralNetwork()\n",
        "x = np.array([2, 3, 4])\n",
        "print(network.feedforward(x)) # 0.7216325609518421"
      ],
      "metadata": {
        "cell_id": "33847dd6f53146ee83f83ecfe93fe80a",
        "source_hash": "5e4f4d3a",
        "execution_start": 1686039495924,
        "execution_millis": 2,
        "deepnote_to_be_reexecuted": false,
        "deepnote_cell_type": "code",
        "colab": {
          "base_uri": "https://localhost:8080/"
        },
        "id": "MxPf4p21imFS",
        "outputId": "4dd03a8c-9a48-4c8b-bb95-1f2ef943061c"
      },
      "outputs": [
        {
          "output_type": "stream",
          "name": "stdout",
          "text": [
            "0.8151036049051821\n"
          ]
        }
      ],
      "execution_count": null
    },
    {
      "cell_type": "code",
      "source": [
        "class OurNeuralNetwork:\n",
        "    def __init__(self):\n",
        "        weights = np.array([1, 0]) # w = [1,0]\n",
        "        bias = 1 # b = 1\n",
        "        # Knacc Neuron u3 предыдущего раздела\n",
        "        self.h1 = Neuron(weights, bias) # 1 нейрон\n",
        "        self.h2 = Neuron(weights, bias) # 2 нейрон\n",
        "        self.o1 = Neuron(weights, bias) # 1 выход\n",
        "        self.o2 = Neuron(weights, bias) # 2 выход\n",
        "    def feedforward(self, x):\n",
        "        out_h1 = self.h1.feedforward(x)\n",
        "        out_h2 = self.h2.feedforward(x)\n",
        "        # Входы для o1 — это входы h1 и h2\n",
        "        out_o1 = self.o1.feedforward(np.array([out_h1, out_h2]))\n",
        "        out_o2 = self.o2.feedforward(np.array([out_h1, out_h2]))\n",
        "        return out_o1, out_o2\n",
        "\n",
        "network = OurNeuralNetwork()\n",
        "x = np.array([2, 3])\n",
        "print(network.feedforward(x)) # 0.7216325609518421"
      ],
      "metadata": {
        "cell_id": "0e3642662a974a3397611bdb8b89fd41",
        "source_hash": "bc047e4b",
        "execution_start": 1686039495925,
        "execution_millis": 50,
        "deepnote_to_be_reexecuted": false,
        "deepnote_cell_type": "code",
        "colab": {
          "base_uri": "https://localhost:8080/"
        },
        "id": "YUP8rbpPimFS",
        "outputId": "62f5a677-c682-4f30-9b1f-4e2e80d50382"
      },
      "outputs": [
        {
          "output_type": "stream",
          "name": "stdout",
          "text": [
            "(0.8757270529783324, 0.8757270529783324)\n"
          ]
        }
      ],
      "execution_count": null
    },
    {
      "cell_type": "markdown",
      "source": [
        "### Задание\n",
        "Реализуйте классы нейронных сетей с использованием других функций активации.\n",
        "\n",
        "![img](https://i.ibb.co/Ln939nY/image.png)"
      ],
      "metadata": {
        "cell_id": "f2ab55bc2f2544b5a544ddee34fc9461",
        "deepnote_cell_type": "markdown",
        "id": "ZZnhLOnMimFT"
      }
    },
    {
      "cell_type": "code",
      "source": [
        "## Sigmoid\n",
        "def sigmoid(x):\n",
        "    sig = 1 / (1 + np.exp(-x))\n",
        "    return sig\n",
        "\n",
        "class Neuron1:\n",
        "    def __init__(self, weights, bias):\n",
        "        self.weights = weights\n",
        "        self.bias = bias\n",
        "    def feedforward (self, inputs):\n",
        "        total = np.dot(self.weights, inputs) + self.bias\n",
        "        return sigmoid(total)\n",
        "\n",
        "class OurNeuralNetwork:\n",
        "    def __init__(self):\n",
        "        weights = np.array([0.5, 0.5, 0.5])\n",
        "        bias = 0\n",
        "        self.h1 = Neuron1(weights, bias)\n",
        "        self.h2 = Neuron1(weights, bias)\n",
        "        self.h3 = Neuron1(weights, bias)\n",
        "        self.o1 = Neuron1(weights, bias)\n",
        "    def feedforward(self, x):\n",
        "        out_h1 = self.h1.feedforward(x)\n",
        "        out_h2 = self.h2.feedforward(x)\n",
        "        out_h3 = self.h3.feedforward(x)\n",
        "        out_o1 = self.o1.feedforward(np.array([out_h1, out_h2, out_h3]))\n",
        "        return out_o1\n",
        "\n",
        "class OrNeuralNetwork:\n",
        "    def __init__(self):\n",
        "        weights = np.array([1,0])\n",
        "        bias = 1\n",
        "\n",
        "        self.h1 = Neuron1(weights, bias)\n",
        "        self.h2 = Neuron1(weights, bias)\n",
        "        self.o1 = Neuron1(weights, bias)\n",
        "        self.o2 = Neuron1(weights, bias)\n",
        "    def feedforward(self, x):\n",
        "        out_h1 = self.h1.feedforward(x)\n",
        "        out_h2 = self.h2.feedforward(x)\n",
        "        out_o1 = self.o1.feedforward(np.array([out_h1, out_h2]))\n",
        "        out_o2 = self.o2.feedforward(np.array([out_h1, out_h2]))\n",
        "        return out_o1, out_o2\n",
        "\n",
        "\n",
        "network = OurNeuralNetwork()\n",
        "x = np.array ([2, 3, 4])\n",
        "print (network.feedforward(x))\n",
        "\n",
        "network = OrNeuralNetwork()\n",
        "x = np.array ([2, 3])\n",
        "print (network.feedforward(x))"
      ],
      "metadata": {
        "cell_id": "ee2d333f5481472eb7b8202c61668202",
        "source_hash": "9c59a9a4",
        "execution_start": 1686039495973,
        "execution_millis": 2,
        "deepnote_to_be_reexecuted": false,
        "deepnote_cell_type": "code",
        "colab": {
          "base_uri": "https://localhost:8080/"
        },
        "id": "S-xI5RZ1imFT",
        "outputId": "c019c10a-10e4-4f5d-eae4-7d73f3407729"
      },
      "outputs": [
        {
          "output_type": "stream",
          "name": "stdout",
          "text": [
            "0.8151036049051821\n",
            "(0.8757270529783324, 0.8757270529783324)\n"
          ]
        }
      ],
      "execution_count": null
    },
    {
      "cell_type": "code",
      "source": [
        "## Tanh\n",
        "def tanh(x):\n",
        "    return np.tan(x)\n",
        "\n",
        "\n",
        "class Neuron2:\n",
        "    def __init__(self, weights, bias):\n",
        "        self.weights = weights\n",
        "        self.bias = bias\n",
        "    def feedforward (self, inputs):\n",
        "        total = np.dot(self.weights, inputs) + self.bias\n",
        "        return tanh(total)\n",
        "\n",
        "class OurNeuralNetwork:\n",
        "    def __init__(self):\n",
        "        weights = np.array([0.5, 0.5, 0.5])\n",
        "        bias = 0\n",
        "        self.h1 = Neuron2(weights, bias)\n",
        "        self.h2 = Neuron2(weights, bias)\n",
        "        self.h3 = Neuron2(weights, bias)\n",
        "        self.o1 = Neuron2(weights, bias)\n",
        "    def feedforward(self, x):\n",
        "        out_h1 = self.h1.feedforward(x)\n",
        "        out_h2 = self.h2.feedforward(x)\n",
        "        out_h3 = self.h3.feedforward(x)\n",
        "        out_o1 = self.o1.feedforward(np.array([out_h1, out_h2, out_h3]))\n",
        "        return out_o1\n",
        "\n",
        "network = OurNeuralNetwork()\n",
        "x = np.array ([2, 3, 4])\n",
        "print (network.feedforward(x))\n",
        "\n",
        "class OurNeuralNetwork:\n",
        "    def __init__(self):\n",
        "        weights = np.array([1,0])\n",
        "        bias = 1\n",
        "\n",
        "        self.h1 = Neuron2(weights, bias)\n",
        "        self.h2 = Neuron2(weights, bias)\n",
        "        self.o1 = Neuron2(weights, bias)\n",
        "        self.o2 = Neuron2(weights, bias)\n",
        "    def feedforward(self, x):\n",
        "        out_h1 = self.h1.feedforward(x)\n",
        "        out_h2 = self.h2.feedforward(x)\n",
        "        out_o1 = self.o1.feedforward(np.array([out_h1, out_h2]))\n",
        "        out_o2 = self.o2.feedforward(np.array([out_h1, out_h2]))\n",
        "        return out_o1, out_o2\n",
        "\n",
        "network = OurNeuralNetwork()\n",
        "x = np.array ([2, 3])\n",
        "print (network.feedforward(x))"
      ],
      "metadata": {
        "cell_id": "32e8bbe1fe2f405889bbfa77aeeeaf9c",
        "source_hash": "732c220b",
        "execution_start": 1686039495988,
        "execution_millis": 21,
        "deepnote_to_be_reexecuted": false,
        "deepnote_cell_type": "code",
        "colab": {
          "base_uri": "https://localhost:8080/"
        },
        "id": "FLtL1q5rimFT",
        "outputId": "0e22b9c1-6f2b-4deb-e059-4885817c4d18"
      },
      "outputs": [
        {
          "output_type": "stream",
          "name": "stdout",
          "text": [
            "0.7968426715486405\n",
            "(1.1555911185916798, 1.1555911185916798)\n"
          ]
        }
      ],
      "execution_count": null
    },
    {
      "cell_type": "code",
      "source": [
        "## ReLU\n",
        "def ReLU(x):\n",
        "    return np.maximum(0, x)\n",
        "\n",
        "class Neuron3:\n",
        "    def __init__(self, weights, bias):\n",
        "        self.weights = weights\n",
        "        self.bias = bias\n",
        "    def feedforward (self, inputs):\n",
        "        total = np.dot(self.weights, inputs) + self.bias\n",
        "        return ReLU(total)\n",
        "\n",
        "class OurNeuralNetwork:\n",
        "    def __init__(self):\n",
        "        weights = np.array([0.5, 0.5, 0.5])\n",
        "        bias = 0\n",
        "        self.h1 = Neuron3(weights, bias)\n",
        "        self.h2 = Neuron3(weights, bias)\n",
        "        self.h3 = Neuron3(weights, bias)\n",
        "        self.o1 = Neuron3(weights, bias)\n",
        "    def feedforward(self, x):\n",
        "        out_h1 = self.h1.feedforward(x)\n",
        "        out_h2 = self.h2.feedforward(x)\n",
        "        out_h3 = self.h3.feedforward(x)\n",
        "        out_o1 = self.o1.feedforward(np.array([out_h1, out_h2, out_h3]))\n",
        "        return out_o1\n",
        "\n",
        "network = OurNeuralNetwork()\n",
        "x = np.array ([2, 3, 4])\n",
        "print (network.feedforward(x))\n",
        "\n",
        "class OurNeuralNetwork:\n",
        "    def __init__(self):\n",
        "        weights = np.array([1,0])\n",
        "        bias = 1\n",
        "\n",
        "        self.h1 = Neuron3(weights, bias)\n",
        "        self.h2 = Neuron3(weights, bias)\n",
        "        self.o1 = Neuron3(weights, bias)\n",
        "        self.o2 = Neuron3(weights, bias)\n",
        "    def feedforward(self, x):\n",
        "        out_h1 = self.h1.feedforward(x)\n",
        "        out_h2 = self.h2.feedforward(x)\n",
        "        out_o1 = self.o1.feedforward(np.array([out_h1, out_h2]))\n",
        "        out_o2 = self.o2.feedforward(np.array([out_h1, out_h2]))\n",
        "        return out_o1, out_o2\n",
        "\n",
        "network = OurNeuralNetwork()\n",
        "x = np.array ([2, 3])\n",
        "print (network.feedforward(x))"
      ],
      "metadata": {
        "cell_id": "e72c4f65407a494284d57ddac7ef7977",
        "source_hash": "6020d016",
        "execution_start": 1686039496052,
        "execution_millis": 47,
        "deepnote_to_be_reexecuted": false,
        "deepnote_cell_type": "code",
        "colab": {
          "base_uri": "https://localhost:8080/"
        },
        "id": "MbnXVmp3imFU",
        "outputId": "c6c42c6a-da04-4e25-a325-e38dd4c3950d"
      },
      "outputs": [
        {
          "output_type": "stream",
          "name": "stdout",
          "text": [
            "6.75\n",
            "(4, 4)\n"
          ]
        }
      ],
      "execution_count": null
    },
    {
      "cell_type": "markdown",
      "source": [
        "### Задание\n",
        "Используйте классы MLPClassified и MLPRegressor для классификации и регрессии произвольных данных из интернета. Проведите анализ атрибуты, полученных моделей.\n",
        "\n",
        "Для классификации можете взять набор данных Ирисов:\n",
        "https://gist.githubusercontent.com/netj/8836201/raw/6f9306ad21398ea43cba4f7d537619d0e07d5ae3/iris.csv\n",
        "\n",
        "а для регрессии датасет зависимости заработной платы от опыта работы:\n",
        "\n",
        "https://raw.githubusercontent.com/AnnaShestova/salary-years-simple-linear-regression/master/Salary_Data.csv"
      ],
      "metadata": {
        "cell_id": "a05a80462c1d4d5db112c67ea304ff44",
        "deepnote_cell_type": "markdown",
        "id": "Ecbo6-s0imFU"
      }
    },
    {
      "cell_type": "markdown",
      "source": [
        "MLPClassifier — это клвсс, доступный как часть модуля neuro_network\n",
        "sklearn для выполнения задач классификации с использованием\n",
        "многослойного персептрона."
      ],
      "metadata": {
        "cell_id": "6a1cc68c4910434da424eaaaf1405a97",
        "formattedRanges": [],
        "deepnote_cell_type": "text-cell-p",
        "id": "nHaENYmtimFU"
      }
    },
    {
      "cell_type": "code",
      "source": [
        "# MLPClassifier — это клвсс, доступный как часть модуля neuro_network\n",
        "# sklearn для выполнения задач классификации с использованием\n",
        "# многослойного персептрона.\n",
        "\n",
        "import pandas as pd\n",
        "from sklearn.model_selection import train_test_split\n",
        "url = 'https://gist.githubusercontent.com/netj/8836201/raw/6f9306ad21398ea43cba4f7d537619d0e07d5ae3/iris.csv'\n",
        "df = pd.read_csv(url)\n",
        "df.head(5)\n",
        "df\n",
        "df = df.rename(columns={'variety': 'target'})\n",
        "X_df, Y_df = df.drop(['target'], axis=1), df.target\n",
        "print('Dataset Size: ', X_df.shape, Y_df.shape)\n",
        "# Функция train_test_split модуля model_selection sklearn поможет нам\n",
        "# разделить данные на два набора: 80% для обучения и 20% для тестирования.\n",
        "# Мы также используем seed(random_state=123) с train_test_split, чтобы мы\n",
        "# всегда получали одно и то же разделение и могли сравнивать и\n",
        "# воспроизволить результаты в будущем.\n",
        "X_train, X_test, Y_train, Y_test = train_test_split(X_df, Y_df, train_size=0.80, test_size=0.20, stratify=Y_df, random_state=123)\n",
        "print(X_train.shape, X_test.shape, Y_train.shape, Y_test.shape)\n",
        "from sklearn.neural_network import MLPClassifier\n",
        "\n",
        "# Для начала натренируем модель MLPClassifier с параметрами по умолчанию\n",
        "# для тренировочных данных.\n",
        "mlp_classifier = MLPClassifier(random_state=123)\n",
        "mlp_classifier.fit(X_train, Y_train)\n",
        "Y_preds = mlp_classifier.predict(X_test)\n",
        "\n",
        "print(Y_preds[:15])\n",
        "print(Y_test[:15])\n",
        "# Метод score для оценки точности моделей классификации\n",
        "print('Test Accuracy: %.3f' % mlp_classifier.score(X_test, Y_test))\n",
        "print('Training Accuracy: %.3f' % mlp_classifier.score(X_train, Y_train))\n",
        "\n",
        "# loss_ — возвращает убыток после завершения процесса обучения\n",
        "print('Loss: ', mlp_classifier.loss_)\n",
        "# coefs_ — возвращает массив длины n_layers-1, где каждый элемент представляет веса, связанные с уровнем i\n",
        "print('Number of Coefs: ', len(mlp_classifier.coefs_))\n",
        "# intercepts_ — возвращает массив длины n_layers-1, где каждый элемент представляет собой перехват, связанный с персептронами слоя i\n",
        "print('Number of Intercepts: ', len(mlp_classifier.intercepts_))\n",
        "# n_iter_ — количество итераций, для которых выполнялась оценка\n",
        "print('Number of Iteration for Which Estimator Ran: ', mlp_classifier.n_iter_)\n",
        "# out_activation_ — возвращает имя функции активации выходного слоя.\n",
        "print('Name of Output Layer Activation Function: ', mlp_classifier.out_activation_)"
      ],
      "metadata": {
        "cell_id": "d99438dadaff49be8f290258ea71ece0",
        "source_hash": "10220a2c",
        "execution_start": 1686039496097,
        "execution_millis": 2010,
        "is_output_hidden": false,
        "deepnote_to_be_reexecuted": false,
        "deepnote_app_is_output_hidden": true,
        "deepnote_cell_type": "code",
        "colab": {
          "base_uri": "https://localhost:8080/"
        },
        "id": "tYWIDUJzimFU",
        "outputId": "d6cb8ef0-fb9c-4e4c-ca31-4bdf203d7bcd"
      },
      "outputs": [
        {
          "output_type": "stream",
          "name": "stdout",
          "text": [
            "Dataset Size:  (150, 4) (150,)\n",
            "(120, 4) (30, 4) (120,) (30,)\n",
            "['Versicolor' 'Setosa' 'Virginica' 'Virginica' 'Setosa' 'Setosa'\n",
            " 'Virginica' 'Virginica' 'Virginica' 'Setosa' 'Setosa' 'Versicolor'\n",
            " 'Virginica' 'Versicolor' 'Virginica']\n",
            "80     Versicolor\n",
            "45         Setosa\n",
            "144     Virginica\n",
            "110     Virginica\n",
            "38         Setosa\n",
            "2          Setosa\n",
            "135     Virginica\n",
            "72     Versicolor\n",
            "138     Virginica\n",
            "34         Setosa\n",
            "19         Setosa\n",
            "77     Versicolor\n",
            "101     Virginica\n",
            "63     Versicolor\n",
            "117     Virginica\n",
            "Name: target, dtype: object\n",
            "Test Accuracy: 0.933\n",
            "Training Accuracy: 0.983\n",
            "Loss:  0.29887893401974336\n",
            "Number of Coefs:  2\n",
            "Number of Intercepts:  2\n",
            "Number of Iteration for Which Estimator Ran:  200\n",
            "Name of Output Layer Activation Function:  softmax\n"
          ]
        },
        {
          "output_type": "stream",
          "name": "stderr",
          "text": [
            "/usr/local/lib/python3.10/dist-packages/sklearn/neural_network/_multilayer_perceptron.py:686: ConvergenceWarning: Stochastic Optimizer: Maximum iterations (200) reached and the optimization hasn't converged yet.\n",
            "  warnings.warn(\n"
          ]
        }
      ],
      "execution_count": null
    },
    {
      "cell_type": "markdown",
      "source": [
        "MLPRegressor — это класс, доступный как часть библиотеки\n",
        "neuro_network sklearn для выполнения задач регрессии с использованием\n",
        "многослойного персептрона."
      ],
      "metadata": {
        "cell_id": "4f626ccebb61422e890e3cbc73b92d73",
        "formattedRanges": [],
        "deepnote_cell_type": "text-cell-p",
        "id": "qfY_2EZEimFV"
      }
    },
    {
      "cell_type": "code",
      "source": [
        "url = 'https://raw.githubusercontent.com/AnnaShestova/salary-years-simple-linear-regression/master/Salary_Data.csv'\n",
        "df = pd.read_csv(url)\n",
        "df.head(5)\n",
        "df\n",
        "df = df.rename(columns={'Salary':'target'})\n",
        "X_df, Y_df = df.drop(['target'], axis=1), df.target\n",
        "print ('Dataset Size: ', X_df.shape, Y_df.shape)\n",
        "# Функция train_test_split модуля model_selection sklearn поможет нам\n",
        "# разделить данные на два набора: 80% для обучения и 20% для тестирования.\n",
        "# Мы также используем seed(random_state=123) с train_test_split, чтобы мы\n",
        "# всегда получали одно и то же разделение и могли сравнивать и\n",
        "# воспроизволить результаты в будущем.\n",
        "X_train, X_test, Y_train, Y_test = train_test_split(X_df, Y_df, train_size = 0.80, test_size = 0.20, random_state = 123)\n",
        "print ('Train/Test size: ', X_train.shape, X_test.shape, Y_train.shape, Y_test.shape)\n",
        "from sklearn.neural_network import MLPRegressor\n",
        "\n",
        "mlp_regressor = MLPRegressor(random_state=123)\n",
        "mlp_regressor.fit(X_train, Y_train)\n",
        "Y_preds = mlp_regressor.predict(X_test)\n",
        "\n",
        "print (Y_preds[:10])\n",
        "print (Y_test[:10])\n",
        "print ('Test R^2 Score: %.3f'%mlp_regressor.score(X_test, Y_test))\n",
        "print ('Training R^2 Score: %.3f'%mlp_regressor.score(X_train, Y_train))\n",
        "\n",
        "print ('Loss: ', mlp_regressor.loss_)\n",
        "print ('Number of Coefs: ', len(mlp_regressor.coefs_))\n",
        "print ('Number of Intercepts: ', len(mlp_regressor.intercepts_))\n",
        "print ('Number of Iteration for Which Estimator Ran: ', mlp_regressor.n_iter_)\n",
        "print ('Name of Output Layer Activation Function: ', mlp_regressor.out_activation_)\n"
      ],
      "metadata": {
        "cell_id": "7b542308a31047a19fcce31b5e413827",
        "source_hash": "7cbe523e",
        "execution_start": 1686039498157,
        "execution_millis": 224,
        "deepnote_to_be_reexecuted": false,
        "deepnote_cell_type": "code",
        "colab": {
          "base_uri": "https://localhost:8080/"
        },
        "id": "fSjC6pTLimFV",
        "outputId": "4b4915ab-c8c4-4031-c2cb-647e2a8e8474"
      },
      "outputs": [
        {
          "output_type": "stream",
          "name": "stdout",
          "text": [
            "Dataset Size:  (30, 1) (30,)\n",
            "Train/Test size:  (24, 1) (6, 1) (24,) (6,)\n",
            "[20.26234628 55.2781752  18.82135812 50.48274487 20.26234628 50.9622879 ]\n",
            "7      54445.0\n",
            "29    121872.0\n",
            "5      56642.0\n",
            "26    116969.0\n",
            "8      64445.0\n",
            "27    112635.0\n",
            "Name: target, dtype: float64\n",
            "Test R^2 Score: -8.796\n",
            "Training R^2 Score: -8.261\n",
            "Loss:  2988058032.1601596\n",
            "Number of Coefs:  2\n",
            "Number of Intercepts:  2\n",
            "Number of Iteration for Which Estimator Ran:  200\n",
            "Name of Output Layer Activation Function:  identity\n"
          ]
        },
        {
          "output_type": "stream",
          "name": "stderr",
          "text": [
            "/usr/local/lib/python3.10/dist-packages/sklearn/neural_network/_multilayer_perceptron.py:686: ConvergenceWarning: Stochastic Optimizer: Maximum iterations (200) reached and the optimization hasn't converged yet.\n",
            "  warnings.warn(\n"
          ]
        }
      ],
      "execution_count": null
    },
    {
      "cell_type": "code",
      "source": [
        "# Загрузка библиотек\n",
        "import numpy as np\n",
        "import pandas as pd\n",
        "import matplotlib.pyplot as plt\n",
        "\n",
        "import sklearn"
      ],
      "metadata": {
        "id": "4QYAW0QDkOGV"
      },
      "execution_count": null,
      "outputs": []
    },
    {
      "cell_type": "code",
      "source": [
        "from sklearn.datasets import load_digits\n",
        "\n",
        "digits = load_digits()\n",
        "x_digits, y_digits = digits.data, digits.target\n",
        "print('Dataset Sizes : ', x_digits.shape, y_digits.shape)"
      ],
      "metadata": {
        "colab": {
          "base_uri": "https://localhost:8080/"
        },
        "id": "eAqOCiJ9kYik",
        "outputId": "8936746d-c207-4f1e-c440-427a596e5b9e"
      },
      "execution_count": null,
      "outputs": [
        {
          "output_type": "stream",
          "name": "stdout",
          "text": [
            "Dataset Sizes :  (1797, 64) (1797,)\n"
          ]
        }
      ]
    },
    {
      "cell_type": "code",
      "source": [
        "from sklearn.model_selection import train_test_split\n",
        "\n",
        "x_train, x_test, y_train, y_test = train_test_split(x_digits, y_digits, train_size=.80, test_size=.20, stratify=y_digits, random_state=123)\n",
        "print('Train/Test Sizes : ', x_train.shape, x_test.shape, y_train.shape, y_test.shape)"
      ],
      "metadata": {
        "colab": {
          "base_uri": "https://localhost:8080/"
        },
        "id": "RQqWX9XCkcAQ",
        "outputId": "05c515cc-6c8d-4443-a089-9111f6e10bc3"
      },
      "execution_count": null,
      "outputs": [
        {
          "output_type": "stream",
          "name": "stdout",
          "text": [
            "Train/Test Sizes :  (1437, 64) (360, 64) (1437,) (360,)\n"
          ]
        }
      ]
    },
    {
      "cell_type": "code",
      "source": [
        "from sklearn.neural_network import MLPClassifier\n",
        "\n",
        "mlp_classifier = MLPClassifier(random_state=123)\n",
        "mlp_classifier.fit(x_train, y_train)"
      ],
      "metadata": {
        "colab": {
          "base_uri": "https://localhost:8080/",
          "height": 76
        },
        "id": "oJYcBbzmkiH2",
        "outputId": "d5c4f73f-3ee0-4ab0-b33e-c689fa652c4c"
      },
      "execution_count": null,
      "outputs": [
        {
          "output_type": "execute_result",
          "data": {
            "text/plain": [
              "MLPClassifier(random_state=123)"
            ],
            "text/html": [
              "<style>#sk-container-id-1 {color: black;background-color: white;}#sk-container-id-1 pre{padding: 0;}#sk-container-id-1 div.sk-toggleable {background-color: white;}#sk-container-id-1 label.sk-toggleable__label {cursor: pointer;display: block;width: 100%;margin-bottom: 0;padding: 0.3em;box-sizing: border-box;text-align: center;}#sk-container-id-1 label.sk-toggleable__label-arrow:before {content: \"▸\";float: left;margin-right: 0.25em;color: #696969;}#sk-container-id-1 label.sk-toggleable__label-arrow:hover:before {color: black;}#sk-container-id-1 div.sk-estimator:hover label.sk-toggleable__label-arrow:before {color: black;}#sk-container-id-1 div.sk-toggleable__content {max-height: 0;max-width: 0;overflow: hidden;text-align: left;background-color: #f0f8ff;}#sk-container-id-1 div.sk-toggleable__content pre {margin: 0.2em;color: black;border-radius: 0.25em;background-color: #f0f8ff;}#sk-container-id-1 input.sk-toggleable__control:checked~div.sk-toggleable__content {max-height: 200px;max-width: 100%;overflow: auto;}#sk-container-id-1 input.sk-toggleable__control:checked~label.sk-toggleable__label-arrow:before {content: \"▾\";}#sk-container-id-1 div.sk-estimator input.sk-toggleable__control:checked~label.sk-toggleable__label {background-color: #d4ebff;}#sk-container-id-1 div.sk-label input.sk-toggleable__control:checked~label.sk-toggleable__label {background-color: #d4ebff;}#sk-container-id-1 input.sk-hidden--visually {border: 0;clip: rect(1px 1px 1px 1px);clip: rect(1px, 1px, 1px, 1px);height: 1px;margin: -1px;overflow: hidden;padding: 0;position: absolute;width: 1px;}#sk-container-id-1 div.sk-estimator {font-family: monospace;background-color: #f0f8ff;border: 1px dotted black;border-radius: 0.25em;box-sizing: border-box;margin-bottom: 0.5em;}#sk-container-id-1 div.sk-estimator:hover {background-color: #d4ebff;}#sk-container-id-1 div.sk-parallel-item::after {content: \"\";width: 100%;border-bottom: 1px solid gray;flex-grow: 1;}#sk-container-id-1 div.sk-label:hover label.sk-toggleable__label {background-color: #d4ebff;}#sk-container-id-1 div.sk-serial::before {content: \"\";position: absolute;border-left: 1px solid gray;box-sizing: border-box;top: 0;bottom: 0;left: 50%;z-index: 0;}#sk-container-id-1 div.sk-serial {display: flex;flex-direction: column;align-items: center;background-color: white;padding-right: 0.2em;padding-left: 0.2em;position: relative;}#sk-container-id-1 div.sk-item {position: relative;z-index: 1;}#sk-container-id-1 div.sk-parallel {display: flex;align-items: stretch;justify-content: center;background-color: white;position: relative;}#sk-container-id-1 div.sk-item::before, #sk-container-id-1 div.sk-parallel-item::before {content: \"\";position: absolute;border-left: 1px solid gray;box-sizing: border-box;top: 0;bottom: 0;left: 50%;z-index: -1;}#sk-container-id-1 div.sk-parallel-item {display: flex;flex-direction: column;z-index: 1;position: relative;background-color: white;}#sk-container-id-1 div.sk-parallel-item:first-child::after {align-self: flex-end;width: 50%;}#sk-container-id-1 div.sk-parallel-item:last-child::after {align-self: flex-start;width: 50%;}#sk-container-id-1 div.sk-parallel-item:only-child::after {width: 0;}#sk-container-id-1 div.sk-dashed-wrapped {border: 1px dashed gray;margin: 0 0.4em 0.5em 0.4em;box-sizing: border-box;padding-bottom: 0.4em;background-color: white;}#sk-container-id-1 div.sk-label label {font-family: monospace;font-weight: bold;display: inline-block;line-height: 1.2em;}#sk-container-id-1 div.sk-label-container {text-align: center;}#sk-container-id-1 div.sk-container {/* jupyter's `normalize.less` sets `[hidden] { display: none; }` but bootstrap.min.css set `[hidden] { display: none !important; }` so we also need the `!important` here to be able to override the default hidden behavior on the sphinx rendered scikit-learn.org. See: https://github.com/scikit-learn/scikit-learn/issues/21755 */display: inline-block !important;position: relative;}#sk-container-id-1 div.sk-text-repr-fallback {display: none;}</style><div id=\"sk-container-id-1\" class=\"sk-top-container\"><div class=\"sk-text-repr-fallback\"><pre>MLPClassifier(random_state=123)</pre><b>In a Jupyter environment, please rerun this cell to show the HTML representation or trust the notebook. <br />On GitHub, the HTML representation is unable to render, please try loading this page with nbviewer.org.</b></div><div class=\"sk-container\" hidden><div class=\"sk-item\"><div class=\"sk-estimator sk-toggleable\"><input class=\"sk-toggleable__control sk-hidden--visually\" id=\"sk-estimator-id-1\" type=\"checkbox\" checked><label for=\"sk-estimator-id-1\" class=\"sk-toggleable__label sk-toggleable__label-arrow\">MLPClassifier</label><div class=\"sk-toggleable__content\"><pre>MLPClassifier(random_state=123)</pre></div></div></div></div></div>"
            ]
          },
          "metadata": {},
          "execution_count": 20
        }
      ]
    },
    {
      "cell_type": "code",
      "source": [
        "y_preds = mlp_classifier.predict(x_test)\n",
        "\n",
        "print(y_preds[:15])\n",
        "print(y_test[:15])\n",
        "# Метод Score для оценки точности моделей классификации\n",
        "print('Test Accuracy : %.3f'%mlp_classifier.score(x_test, y_test))\n",
        "\n",
        "print('Training Accuracy : %.3f'%mlp_classifier.score(x_train, y_train))"
      ],
      "metadata": {
        "colab": {
          "base_uri": "https://localhost:8080/"
        },
        "id": "azxZhrUzkkFp",
        "outputId": "c2acb285-c5ef-421e-8bc6-46f6ce525fe3"
      },
      "execution_count": null,
      "outputs": [
        {
          "output_type": "stream",
          "name": "stdout",
          "text": [
            "[5 9 9 6 1 6 6 9 8 7 4 2 1 4 3]\n",
            "[5 9 9 6 1 6 6 9 8 7 4 2 1 4 3]\n",
            "Test Accuracy : 0.983\n",
            "Training Accuracy : 1.000\n"
          ]
        }
      ]
    },
    {
      "cell_type": "code",
      "source": [
        "from sklearn.metrics import confusion_matrix\n",
        "\n",
        "def plot_confusion_matrix(y_test, y_preds):\n",
        "    conf_mat = confusion_matrix(y_test, y_preds)\n",
        "\n",
        "    fig = plt.figure(figsize=(6, 6))\n",
        "    plt.matshow(conf_mat, cmap=plt.cm.Blues, fignum=1)\n",
        "    plt.yticks(range(10), range(10))\n",
        "    plt.xticks(range(10), range(10))\n",
        "    plt.colorbar()\n",
        "    for i in range(10):\n",
        "        for j in range(10):\n",
        "            plt.text(i - .2, j + .1, str(conf_mat[j, i]), color='tab:red')\n",
        "\n",
        "plot_confusion_matrix(y_test, mlp_classifier.predict(x_test))"
      ],
      "metadata": {
        "colab": {
          "base_uri": "https://localhost:8080/",
          "height": 510
        },
        "id": "wMo9xfwkkm1V",
        "outputId": "28c82ffe-3c4c-4c13-b2d5-aab0ac829770"
      },
      "execution_count": null,
      "outputs": [
        {
          "output_type": "display_data",
          "data": {
            "text/plain": [
              "<Figure size 600x600 with 2 Axes>"
            ],
            "image/png": "[encoded data removed]"
          },
          "metadata": {}
        }
      ]
    },
    {
      "cell_type": "code",
      "source": [
        "print('Loss : ', mlp_classifier.loss_)\n",
        "print('Number of Coefs : ', len(mlp_classifier.coefs_))\n",
        "print('Number of Intercepts : ', len(mlp_classifier.intercepts_))\n",
        "print('Number of Iterations for Which Estimator Ran : ', mlp_classifier.n_iter_)\n",
        "print('Name of Output Layer Activation Function : ', mlp_classifier.out_activation_)"
      ],
      "metadata": {
        "colab": {
          "base_uri": "https://localhost:8080/"
        },
        "id": "5760DeF5kojG",
        "outputId": "346d82e0-c037-427e-eb18-f43771513cf5"
      },
      "execution_count": null,
      "outputs": [
        {
          "output_type": "stream",
          "name": "stdout",
          "text": [
            "Loss :  0.0034728684994180608\n",
            "Number of Coefs :  2\n",
            "Number of Intercepts :  2\n",
            "Number of Iterations for Which Estimator Ran :  125\n",
            "Name of Output Layer Activation Function :  softmax\n"
          ]
        }
      ]
    }
  ],
  "nbformat": 4,
  "nbformat_minor": 0,
  "metadata": {
    "deepnote": {},
    "orig_nbformat": 2,
    "deepnote_full_width": true,
    "deepnote_notebook_id": "af45eb4b309d4ffaa477ee3e1a982ff4",
    "deepnote_execution_queue": [],
    "deepnote_persisted_session": {
      "createdAt": "2023-06-06T08:17:26.006Z"
    },
    "colab": {
      "provenance": [],
      "include_colab_link": true
    },
    "language_info": {
      "name": "python"
    },
    "kernelspec": {
      "name": "python3",
      "display_name": "Python 3"
    }
  }
}