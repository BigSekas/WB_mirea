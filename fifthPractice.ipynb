{
 "cells": [
  {
   "cell_type": "code",
   "execution_count": 6,
   "id": "94f0ab25",
   "metadata": {},
   "outputs": [
    {
     "name": "stdout",
     "output_type": "stream",
     "text": [
      "Введите число a = 6\n",
      "Введите число b = 9\n",
      "Введите число c = 7\n",
      "Введите число degr = 2\n",
      "1.5\n",
      "1.1666666666666667\n",
      "0.7777777777777778\n",
      "0.03488888888888889\n",
      "0.06977777777777779\n",
      "0.03486767427350232\n",
      "0.03488888888888889\n"
     ]
    }
   ],
   "source": [
    "import math as mt\n",
    "class Trigonom:\n",
    "    def __init__(self,a,b,c,degr):\n",
    "            self.AB = a\n",
    "            self.BC = b\n",
    "            self.AC = c\n",
    "            self.corder = degr\n",
    "            # a=AB b=BC c=AC\n",
    "    def sin(a,b):\n",
    "        return (b/a)\n",
    "    def cos(a,c):\n",
    "        return (c/a)\n",
    "    def tng(c,b):\n",
    "        return (b/c)\n",
    "    def arcsin(degr):\n",
    "        return ((degr * 3.14)/180)\n",
    "    def arccos(degr):\n",
    "        return (((degr * 3.14)/180)*2)\n",
    "    def arctg(degr):\n",
    "        return (((degr * 3.14)/180)/mt.sqrt(1+((degr * 3.14)/180)**2))\n",
    "    def rad(degr):\n",
    "        return ((degr * 3.14)/180)\n",
    "    a = float(input('Введите число a = '))\n",
    "    b = float(input('Введите число b = '))\n",
    "    c = float(input('Введите число c = '))\n",
    "    degr = float(input('Введите число degr = '))\n",
    "print(Trigonom.sin(Trigonom.a,Trigonom.b))\n",
    "print(Trigonom.cos(Trigonom.a,Trigonom.c))\n",
    "print(Trigonom.tng(Trigonom.b,Trigonom.c))\n",
    "print(Trigonom.arcsin(Trigonom.degr))\n",
    "print(Trigonom.arccos(Trigonom.degr))\n",
    "print(Trigonom.arctg(Trigonom.degr))\n",
    "print(Trigonom.rad(Trigonom.degr))"
   ]
  },
  {
   "cell_type": "code",
   "execution_count": 10,
   "id": "d9de4ab2",
   "metadata": {},
   "outputs": [
    {
     "name": "stdout",
     "output_type": "stream",
     "text": [
      "['a', ['b', ['d', [], []], ['e', [], []]], ['c', ['f', [], []], []]]\n",
      "Корень =  a\n",
      "Левое подерево =  ['b', ['d', [], []], ['e', [], []]]\n",
      "Правое поддерево =  ['c', ['f', [], []], []]\n"
     ]
    }
   ],
   "source": [
    "Tree = ['a', ['b', ['d',[],[]], ['e',[],[]] ], ['c', ['f',[],[]], []] ]\n",
    "print(Tree)\n",
    "print('Корень = ', Tree[0])\n",
    "print('Левое подерево = ', Tree[1])\n",
    "print('Правое поддерево = ', Tree[2])"
   ]
  },
  {
   "cell_type": "code",
   "execution_count": 11,
   "id": "d100dca3",
   "metadata": {},
   "outputs": [
    {
     "name": "stdout",
     "output_type": "stream",
     "text": [
      "1\n",
      "2\n",
      "3\n",
      "4\n",
      "5\n",
      "6\n",
      "12\n"
     ]
    }
   ],
   "source": [
    "class Tree:\n",
    "   def __init__(self, data):\n",
    "      self.left = None\n",
    "      self.right = None\n",
    "      self.data = data\n",
    "\n",
    "   def insert(self, data):\n",
    "      if self.data:\n",
    "         if (data < self.data):\n",
    "            if (self.left is None):\n",
    "               self.left = Tree(data)\n",
    "            else:\n",
    "               self.left.insert(data)\n",
    "         elif (data > self.data):\n",
    "               if (self.right is None):\n",
    "                  self.right = Tree(data)\n",
    "               else:\n",
    "                  self.right.insert(data)\n",
    "      else:\n",
    "         self.data = data\n",
    "\n",
    "   def PrintTree(self):\n",
    "      if self.left:\n",
    "         self.left.PrintTree()\n",
    "      print( self.data),\n",
    "      if self.right:\n",
    "         self.right.PrintTree()\n",
    "        \n",
    "root = Tree(12)\n",
    "root.insert(1)\n",
    "root.insert(2)\n",
    "root.insert(3)\n",
    "root.insert(4)\n",
    "root.insert(5)\n",
    "root.insert(5)\n",
    "root.insert(6)\n",
    "root.PrintTree()"
   ]
  },
  {
   "cell_type": "code",
   "execution_count": 5,
   "id": "9f94eef0",
   "metadata": {
    "scrolled": true
   },
   "outputs": [
    {
     "name": "stdout",
     "output_type": "stream",
     "text": [
      "   0  1\n",
      "0 -1 -1\n",
      "1 -2 -1\n",
      "2 -3 -2\n",
      "3  1  1\n",
      "4  2  1\n",
      "5  3  2\n",
      "(6, 2)\n",
      "   0  1\n",
      "0 -1 -1\n",
      "1 -2 -1\n",
      "2 -3 -2\n",
      "3  1  1\n",
      "4  2  1\n",
      "[1]\n",
      "[[1]]\n",
      "              precision    recall  f1-score   support\n",
      "\n",
      "           1       1.00      1.00      1.00         1\n",
      "\n",
      "    accuracy                           1.00         1\n",
      "   macro avg       1.00      1.00      1.00         1\n",
      "weighted avg       1.00      1.00      1.00         1\n",
      "\n"
     ]
    },
    {
     "data": {
      "image/png": "[encoded data removed]",
      "text/plain": [
       "<Figure size 432x288 with 1 Axes>"
      ]
     },
     "metadata": {
      "needs_background": "light"
     },
     "output_type": "display_data"
    }
   ],
   "source": [
    "import pandas as pd\n",
    "import numpy as np\n",
    "import seaborn as sns\n",
    "import matplotlib.pyplot as plt\n",
    "from sklearn.model_selection import train_test_split\n",
    "from sklearn.tree import DecisionTreeRegressor\n",
    "from sklearn import tree\n",
    "from sklearn.tree import DecisionTreeClassifier\n",
    "from sklearn.metrics import confusion_matrix\n",
    "from sklearn.metrics import classification_report\n",
    "\n",
    "x = np.array([[-1,-1],[-2,-1],[-3,-2],[1,1],[2,1],[3,2]])\n",
    "target = [0,0,0,1,1,1]\n",
    "ds = pd.DataFrame(np.array([[-1,-1],[-2,-1],[-3,-2],[1,1],[2,1],[3,2]]))\n",
    "print(ds)\n",
    "print(ds.shape)\n",
    "print(ds.head())\n",
    "x_train, x_test, y_train, y_test = train_test_split(\n",
    "    ds.iloc[:, :-1],\n",
    "    ds.iloc[:, -1],\n",
    "    test_size = 0.15\n",
    ")\n",
    "\n",
    "x_train.shape, x_test.shape, y_train.shape, y_test.shape\n",
    "x_train.head()\n",
    "y_train.head()\n",
    "\n",
    "classifier = DecisionTreeClassifier()\n",
    "classifier.fit(x_train, y_train)\n",
    "tree.plot_tree(classifier)\n",
    "y_pred = classifier.predict(x_test)\n",
    "print(y_pred)\n",
    "print(confusion_matrix(y_test, y_pred))\n",
    "print(classification_report(y_test, y_pred))"
   ]
  },
  {
   "cell_type": "code",
   "execution_count": 31,
   "id": "66557144",
   "metadata": {},
   "outputs": [
    {
     "name": "stdout",
     "output_type": "stream",
     "text": [
      "(30, 2)\n"
     ]
    },
    {
     "data": {
      "image/png": "[encoded data removed]",
      "text/plain": [
       "<Figure size 432x288 with 1 Axes>"
      ]
     },
     "metadata": {
      "needs_background": "light"
     },
     "output_type": "display_data"
    },
    {
     "name": "stdout",
     "output_type": "stream",
     "text": [
      "[ 46205.  121872.   56375.5  56375.5 112635.  105582. ]\n",
      "MSError: 25498988.416666668\n",
      "MAError: 4120.666666666667\n",
      "DecisionTreeRegressor\n"
     ]
    },
    {
     "data": {
      "text/plain": [
       "[Text(165.95689655172413, 203.85, 'X[0] <= 5.2\\nmse = 614737637.832\\nsamples = 24\\nvalue = 73886.208'),\n",
       " Text(69.26896551724138, 176.67000000000002, 'X[0] <= 2.55\\nmse = 81200345.857\\nsamples = 14\\nvalue = 54976.0'),\n",
       " Text(23.089655172413792, 149.49, 'X[0] <= 1.2\\nmse = 7820714.0\\nsamples = 4\\nvalue = 42241.0'),\n",
       " Text(11.544827586206896, 122.31, 'mse = 0.0\\nsamples = 1\\nvalue = 39343.0'),\n",
       " Text(34.63448275862069, 122.31, 'X[0] <= 2.1\\nmse = 6694994.667\\nsamples = 3\\nvalue = 43207.0'),\n",
       " Text(23.089655172413792, 95.13, 'X[0] <= 1.65\\nmse = 1795600.0\\nsamples = 2\\nvalue = 44865.0'),\n",
       " Text(11.544827586206896, 67.94999999999999, 'mse = 0.0\\nsamples = 1\\nvalue = 46205.0'),\n",
       " Text(34.63448275862069, 67.94999999999999, 'mse = 0.0\\nsamples = 1\\nvalue = 43525.0'),\n",
       " Text(46.179310344827584, 95.13, 'mse = 0.0\\nsamples = 1\\nvalue = 39891.0'),\n",
       " Text(115.44827586206895, 149.49, 'X[0] <= 4.7\\nmse = 19731272.6\\nsamples = 10\\nvalue = 60070.0'),\n",
       " Text(92.35862068965517, 122.31, 'X[0] <= 4.25\\nmse = 9499922.484\\nsamples = 8\\nvalue = 58341.625'),\n",
       " Text(80.81379310344828, 95.13, 'X[0] <= 3.45\\nmse = 9604901.143\\nsamples = 7\\nvalue = 57946.0'),\n",
       " Text(57.72413793103448, 67.94999999999999, 'X[0] <= 2.95\\nmse = 14313358.25\\nsamples = 4\\nvalue = 58920.5'),\n",
       " Text(46.179310344827584, 40.77000000000001, 'mse = 0.0\\nsamples = 1\\nvalue = 56642.0'),\n",
       " Text(69.26896551724138, 40.77000000000001, 'X[0] <= 3.1\\nmse = 16777116.667\\nsamples = 3\\nvalue = 59680.0'),\n",
       " Text(57.72413793103448, 13.590000000000003, 'mse = 0.0\\nsamples = 1\\nvalue = 60150.0'),\n",
       " Text(80.81379310344828, 13.590000000000003, 'mse = 25000000.0\\nsamples = 2\\nvalue = 59445.0'),\n",
       " Text(103.90344827586206, 67.94999999999999, 'X[0] <= 3.85\\nmse = 372490.889\\nsamples = 3\\nvalue = 56646.667'),\n",
       " Text(92.35862068965517, 40.77000000000001, 'mse = 0.0\\nsamples = 1\\nvalue = 57189.0'),\n",
       " Text(115.44827586206895, 40.77000000000001, 'mse = 338142.25\\nsamples = 2\\nvalue = 56375.5'),\n",
       " Text(103.90344827586206, 95.13, 'mse = 0.0\\nsamples = 1\\nvalue = 61111.0'),\n",
       " Text(138.53793103448277, 122.31, 'X[0] <= 5.0\\nmse = 911070.25\\nsamples = 2\\nvalue = 66983.5'),\n",
       " Text(126.99310344827586, 95.13, 'mse = 0.0\\nsamples = 1\\nvalue = 67938.0'),\n",
       " Text(150.08275862068965, 95.13, 'mse = 0.0\\nsamples = 1\\nvalue = 66029.0'),\n",
       " Text(262.6448275862069, 176.67000000000002, 'X[0] <= 8.05\\nmse = 160167356.45\\nsamples = 10\\nvalue = 100360.5'),\n",
       " Text(213.57931034482758, 149.49, 'X[0] <= 5.95\\nmse = 53566814.556\\nsamples = 6\\nvalue = 91617.333'),\n",
       " Text(184.71724137931034, 122.31, 'X[0] <= 5.6\\nmse = 743906.25\\nsamples = 2\\nvalue = 82225.5'),\n",
       " Text(173.17241379310343, 95.13, 'mse = 0.0\\nsamples = 1\\nvalue = 83088.0'),\n",
       " Text(196.26206896551724, 95.13, 'mse = 0.0\\nsamples = 1\\nvalue = 81363.0'),\n",
       " Text(242.44137931034481, 122.31, 'X[0] <= 6.95\\nmse = 13823368.688\\nsamples = 4\\nvalue = 96313.25'),\n",
       " Text(219.35172413793103, 95.13, 'X[0] <= 6.4\\nmse = 1212201.0\\nsamples = 2\\nvalue = 92839.0'),\n",
       " Text(207.80689655172412, 67.94999999999999, 'mse = 0.0\\nsamples = 1\\nvalue = 93940.0'),\n",
       " Text(230.8965517241379, 67.94999999999999, 'mse = 0.0\\nsamples = 1\\nvalue = 91738.0'),\n",
       " Text(265.5310344827586, 95.13, 'X[0] <= 7.5\\nmse = 2293710.25\\nsamples = 2\\nvalue = 99787.5'),\n",
       " Text(253.98620689655172, 67.94999999999999, 'mse = 0.0\\nsamples = 1\\nvalue = 98273.0'),\n",
       " Text(277.07586206896553, 67.94999999999999, 'mse = 0.0\\nsamples = 1\\nvalue = 101302.0'),\n",
       " Text(311.7103448275862, 149.49, 'X[0] <= 10.05\\nmse = 33407056.688\\nsamples = 4\\nvalue = 113475.25'),\n",
       " Text(300.1655172413793, 122.31, 'X[0] <= 8.6\\nmse = 13207004.222\\nsamples = 3\\nvalue = 110676.333'),\n",
       " Text(288.6206896551724, 95.13, 'mse = 0.0\\nsamples = 1\\nvalue = 113812.0'),\n",
       " Text(311.7103448275862, 95.13, 'X[0] <= 9.3\\nmse = 12436202.25\\nsamples = 2\\nvalue = 109108.5'),\n",
       " Text(300.1655172413793, 67.94999999999999, 'mse = 0.0\\nsamples = 1\\nvalue = 105582.0'),\n",
       " Text(323.2551724137931, 67.94999999999999, 'mse = 0.0\\nsamples = 1\\nvalue = 112635.0'),\n",
       " Text(323.2551724137931, 122.31, 'mse = 0.0\\nsamples = 1\\nvalue = 121872.0')]"
      ]
     },
     "execution_count": 31,
     "metadata": {},
     "output_type": "execute_result"
    },
    {
     "data": {
      "image/png": "[encoded data removed]",
      "text/plain": [
       "<Figure size 432x288 with 1 Axes>"
      ]
     },
     "metadata": {
      "needs_background": "light"
     },
     "output_type": "display_data"
    }
   ],
   "source": [
    "import numpy as np\n",
    "import pandas as pd\n",
    "import matplotlib.pyplot as plt\n",
    "from pandas import DataFrame,Series\n",
    "from sklearn.model_selection import train_test_split\n",
    "from sklearn.linear_model import LinearRegression\n",
    "from sklearn.tree import DecisionTreeRegressor\n",
    "from sklearn import tree\n",
    "from sklearn import metrics\n",
    "url = 'https://raw.githubusercontent.com/AnnaShestova/salary-years-simple-linear-regression/master/Salary_Data.csv'\n",
    "df = pd.read_csv(url)\n",
    "df.head()\n",
    "print(df.shape)\n",
    "df.describe()\n",
    "plt.scatter(df['YearsExperience'],df['Salary'], color = 'b', label = \"exp\")\n",
    "plt.xlabel(\"Стаж\")\n",
    "plt.ylabel(\"ЗП\")\n",
    "plt.show()\n",
    "x = df.iloc[:,:-1].values\n",
    "y = df.iloc[:, 1].values\n",
    "x_train,x_test, y_train, y_test = train_test_split(x, y, test_size = 0.2, random_state = 0)\n",
    "reg = DecisionTreeRegressor()\n",
    "reg.fit(x_train, y_train)\n",
    "y_pred = reg.predict(x_test)\n",
    "print(y_pred)\n",
    "ds = pd.DataFrame({'Actual': y_test, 'Predicted': y_pred})\n",
    "ds\n",
    "print('MSError:',metrics.mean_squared_error(y_test, y_pred))\n",
    "print('MAError:',metrics.mean_absolute_error(y_test, y_pred))\n",
    "print('DecisionTreeRegressor')\n",
    "tree.plot_tree(reg)"
   ]
  },
  {
   "cell_type": "code",
   "execution_count": 32,
   "id": "e3b5d14a",
   "metadata": {},
   "outputs": [
    {
     "data": {
      "text/plain": [
       "[Text(200.88000000000002, 181.2, 'X[0] <= 0.7\\nmse = 0.5\\nsamples = 4\\nvalue = 5.0'),\n",
       " Text(133.92000000000002, 108.72, 'X[0] <= 0.4\\nmse = 0.222\\nsamples = 3\\nvalue = 4.667'),\n",
       " Text(66.96000000000001, 36.23999999999998, 'mse = 0.0\\nsamples = 2\\nvalue = 5.0'),\n",
       " Text(200.88000000000002, 36.23999999999998, 'mse = 0.0\\nsamples = 1\\nvalue = 4.0'),\n",
       " Text(267.84000000000003, 108.72, 'mse = 0.0\\nsamples = 1\\nvalue = 6.0')]"
      ]
     },
     "execution_count": 32,
     "metadata": {},
     "output_type": "execute_result"
    },
    {
     "data": {
      "image/png": "[encoded data removed]",
      "text/plain": [
       "<Figure size 432x288 with 1 Axes>"
      ]
     },
     "metadata": {
      "needs_background": "light"
     },
     "output_type": "display_data"
    }
   ],
   "source": [
    "from sklearn.tree import DecisionTreeRegressor\n",
    "import pandas as pd\n",
    "X = np.array([0.0, 0.2, 0.4, 0.6, 0.8, 1.0])\n",
    "y = np.array([5.0, 5.0, 4.0, 4.0, 6.0, 6.0])\n",
    "dataframe = pd.DataFrame({\"X\" : [\"0.0\", \"0.2\", \"0.4\", \"0.6\",\"0.8\", \"1.0\"], \"y\": [\"5.0\", \"5.0\", \"4.0\", \"4.0\", \"6.0\", \"6.0\"]})\n",
    "dataframe\n",
    "X = dataframe.iloc[:, :-1].values\n",
    "y = dataframe.iloc[: , 1].values\n",
    "X_train,X_test, y_train, y_test = train_test_split(X, y, test_size = 0.2, random_state = 0)\n",
    "reg = DecisionTreeRegressor()\n",
    "reg.fit(X_train, y_train)\n",
    "tree.plot_tree(reg)"
   ]
  }
 ],
 "metadata": {
  "kernelspec": {
   "display_name": "Python 3 (ipykernel)",
   "language": "python",
   "name": "python3"
  },
  "language_info": {
   "codemirror_mode": {
    "name": "ipython",
    "version": 3
   },
   "file_extension": ".py",
   "mimetype": "text/x-python",
   "name": "python",
   "nbconvert_exporter": "python",
   "pygments_lexer": "ipython3",
   "version": "3.9.12"
  }
 },
 "nbformat": 4,
 "nbformat_minor": 5
}
